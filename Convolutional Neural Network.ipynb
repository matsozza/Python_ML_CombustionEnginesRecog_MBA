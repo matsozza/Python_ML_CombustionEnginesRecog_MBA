{
 "cells": [
  {
   "cell_type": "code",
   "execution_count": 19,
   "metadata": {},
   "outputs": [],
   "source": [
    "### Load necessary libraries ###\n",
    "import glob\n",
    "import os\n",
    "import librosa\n",
    "import librosa.display\n",
    "import numpy as np\n",
    "import matplotlib.pyplot as plt\n",
    "from sklearn.model_selection import KFold\n",
    "from sklearn.metrics import accuracy_score, confusion_matrix, plot_confusion_matrix, ConfusionMatrixDisplay\n",
    "from audiomentations import Compose, AddGaussianNoise, TimeStretch, PitchShift, Shift\n",
    "\n",
    "import tensorflow as tf\n",
    "from tensorflow import keras\n"
   ]
  },
  {
   "cell_type": "markdown",
   "metadata": {},
   "source": [
    "# Global Configuration variables"
   ]
  },
  {
   "cell_type": "code",
   "execution_count": 299,
   "metadata": {},
   "outputs": [],
   "source": [
    "# Debug and test variables\n",
    "# Do not process all the audio in the dataset (for faster execution during script development)\n",
    "REDUCED_MODE = 1\n",
    "# Number of dataset audios per folder to process in the reduced-mode.\n",
    "REDUCED_MODE_AUDIONUM = 25\n",
    "\n",
    "# Audio processing variables\n",
    "AUDIO_SR = 44100  # Audio sampling in Hertz\n",
    "AUDIO_N_FFT = 2048  # Samples per FFT window\n",
    "AUDIO_HOP_LEN = 512\n",
    "AUDIO_N_MELS = 60\n",
    "\n",
    "AUDIOSEG_SIZE = 41  # windows per subAudio / segment\n",
    "AUDIOSEG_OVERLAP = 0.5  # normalized\n",
    "\n",
    "AUDIOSEG_OVERSAMPLING = 3  # how many times to increase the engine category samples\n",
    "AUDIOSEG_CLASS2OVERSAMPLE = 5  # Oversample the engine class (5)\n",
    "\n",
    "# Preprocessing\n",
    "PREPROC_SKIP = 0  # Skip preprocessing files and use previosuly saved '.npz'\n",
    "\n",
    "# Paths and folders\n",
    "audiosPath = 'UrbanSounds8K/1_audioFiles/'\n",
    "audiosSubPaths = np.array(['fold1', 'fold2', 'fold3', 'fold4',\n",
    "                          'fold5', 'fold6', 'fold7', 'fold8', 'fold9', 'fold10'])\n",
    "processedPath = \"UrbanSounds8K/2_featuresProcessed/\"\n",
    "confusionPath = \"UrbanSounds8K/3_confusionMatrix/\"\n",
    "confusionFile = \"confusion_matrix\"\n",
    "logPath = \"UrbanSounds8k/4_processingLog\"\n"
   ]
  },
  {
   "cell_type": "markdown",
   "metadata": {},
   "source": [
    "# Methods for preprocessing and feature extraction"
   ]
  },
  {
   "cell_type": "code",
   "execution_count": 3,
   "metadata": {},
   "outputs": [],
   "source": [
    "# Divide an audio file into shorter and overlapped parts.\n",
    "def audioSegmentation(audioData, subAudioSize, overlapFactor=AUDIOSEG_OVERLAP):\n",
    "    start = 0\n",
    "    while start < len(audioData):\n",
    "        yield int(start), int(start + subAudioSize)\n",
    "        start += (subAudioSize // (1/(1-overlapFactor)))\n",
    "\n",
    "\n",
    "\n",
    "# Add white noise to signal respecting a maximum amplitude based on RMS energy of the original signal\n",
    "def audioAddGaussianNoise(audioData, sampleRate = AUDIO_SR, maxAmplitude_percRMS = 0.1):\n",
    "    signalRMS = (np.average(audioData**2))**(1/2);\n",
    "    \n",
    "    randomFact1 = np.random.rand(1);\n",
    "    randomFact2 = np.random.rand(1);\n",
    "\n",
    "    factMax =  signalRMS * maxAmplitude_percRMS * (randomFact1 if randomFact1 > randomFact2 else randomFact2);\n",
    "    factMin =  signalRMS * maxAmplitude_percRMS * (randomFact1 if randomFact1 < randomFact2 else randomFact2);\n",
    "\n",
    "    transform = AddGaussianNoise(min_amplitude=factMin, max_amplitude=factMax,p=1);\n",
    "    augSoundSignal = transform(audioData,sample_rate=44100);\n",
    "\n",
    "    return augSoundSignal\n"
   ]
  },
  {
   "cell_type": "code",
   "execution_count": 5,
   "metadata": {},
   "outputs": [],
   "source": [
    "### Define helper functions ###\n",
    "def extractSoundFeature(audiosPath, audiosSubPath, n_mels=AUDIO_N_MELS, n_windows=AUDIOSEG_SIZE, hopLength=AUDIO_HOP_LEN, audioOverFact=AUDIOSEG_OVERSAMPLING, audioOverClass=AUDIOSEG_CLASS2OVERSAMPLE):\n",
    "\n",
    "    subAudioSize = hopLength * (n_windows - 1)\n",
    "    features_AM, origClasses_A = [], []\n",
    "\n",
    "    # Map all audio samples paths inside the folder\n",
    "    allAudiosPath_A = glob.glob(os.path.join(\n",
    "        audiosPath, audiosSubPath, \"*.wav\"))\n",
    "\n",
    "    # Iterate and extract features from each audio\n",
    "    idxAudio = 0\n",
    "    idxSegment = 0\n",
    "    for audioPath in allAudiosPath_A:\n",
    "        idxAudio = idxAudio+1\n",
    "        # Early stop for reduced mode\n",
    "        if REDUCED_MODE == 1 and idxAudio == REDUCED_MODE_AUDIONUM:\n",
    "            break\n",
    "\n",
    "        # Extract '.wav' audio to an 1-D array + audio classification\n",
    "        audioData_A, sr = librosa.load(audioPath, sr=AUDIO_SR)\n",
    "        audioClass = int(audioPath.split('/')[2].split('-')[1])\n",
    "\n",
    "        # Loop more than once in the same audio (oversampling)\n",
    "        if audioClass == audioOverClass:\n",
    "            maxRepeatOverSampl = audioOverFact\n",
    "        else:\n",
    "            maxRepeatOverSampl = 1\n",
    "\n",
    "        idxOverSampl = 0\n",
    "        for idxOverSampl in np.arange(maxRepeatOverSampl):\n",
    "\n",
    "            # Create subsegments from audio file and extract the features\n",
    "            subAudioLogSpect_AM, subAudioClass = [], []  # Init arrays\n",
    "            for (start, end) in audioSegmentation(audioData_A, subAudioSize):\n",
    "                if (len(audioData_A[start:end]) == subAudioSize):\n",
    "                    idxSegment = idxSegment+1\n",
    "                    # Append audio class to segments class array\n",
    "                    subAudioClass.append(audioClass)\n",
    "\n",
    "                    # Extract audio data - 1D Array\n",
    "                    segAudioData_A = audioData_A[start:end]\n",
    "\n",
    "                    # Transform to spectogram in decibels - 2D Matrix\n",
    "                    segAudioSpect_M = librosa.feature.melspectrogram(\n",
    "                        y=segAudioData_A, n_mels=n_mels)\n",
    "                    segAudioSpectDecibels_M = librosa.amplitude_to_db(\n",
    "                        segAudioSpect_M)\n",
    "\n",
    "                    # Reshape and append to preprocessed spectograms\n",
    "                    segAudioSpectDecibels_M = segAudioSpectDecibels_M.T.flatten()[\n",
    "                        :, np.newaxis].T\n",
    "                    subAudioLogSpect_AM.append(segAudioSpectDecibels_M)\n",
    "\n",
    "            subAudioLogSpect_AM = np.asarray(subAudioLogSpect_AM).reshape(\n",
    "                len(subAudioLogSpect_AM), n_mels, n_windows, 1)\n",
    "\n",
    "            # If last audio not empty, stack together with others\n",
    "            if len(subAudioLogSpect_AM) > 0:\n",
    "                features_AM.append(subAudioLogSpect_AM)\n",
    "                origClasses_A.append(subAudioClass)\n",
    "\n",
    "    print('Num of segments for this folder - ',\n",
    "          idxSegment, ' - out of - ', idxAudio, ' audios.')\n",
    "\n",
    "    # Stack all data 'per segment' and not 'per audio'\n",
    "    features_AM = np.concatenate(features_AM, axis=0)\n",
    "    origClasses_A = np.concatenate(origClasses_A, axis=0)\n",
    "\n",
    "    # Convert UrbanSounds8K class to binary 'is/isn't engine'\n",
    "    engineClasses_A = np.array(\n",
    "        list(map(lambda x: 1 if x == 5 else 0, origClasses_A)))  # @TODO Still not used\n",
    "\n",
    "    return features_AM, engineClasses_A\n"
   ]
  },
  {
   "cell_type": "markdown",
   "metadata": {},
   "source": [
    "# CNN Model Definition - with ReLu activation"
   ]
  },
  {
   "cell_type": "code",
   "execution_count": 6,
   "metadata": {},
   "outputs": [],
   "source": [
    "### Define convolutional network architecture ###\n",
    "def CNN_modelDefinition(useLeakyRelu=0):\n",
    "    keras.backend.clear_session()\n",
    "\n",
    "    pool_size = (2, 2)\n",
    "    kernel_size = (3, 3)\n",
    "    input_shape = (60, 41, 1)\n",
    "    num_classes = 2  # 10\n",
    "\n",
    "    # ---------- Convolutional + Pooling Layer 1 ---------- #\n",
    "    model = keras.models.Sequential()\n",
    "    model.add(keras.layers.Conv2D(80, kernel_size, padding=\"same\",\n",
    "              input_shape=input_shape, dilation_rate=1))\n",
    "    model.add(keras.layers.BatchNormalization())\n",
    "    if useLeakyRelu == 0:\n",
    "        model.add(keras.layers.Activation(\"relu\"))\n",
    "    else:\n",
    "        model.add(keras.layers.LeakyReLU(alpha=0.1))\n",
    "    model.add(keras.layers.MaxPooling2D(pool_size=pool_size))\n",
    "\n",
    "    # model.add(keras.layers.Dropout(0.2))\n",
    "\n",
    "    # ---------- Convolutional + Pooling Layer 2 ---------- #\n",
    "    model.add(keras.layers.Conv2D(80, kernel_size,\n",
    "              padding=\"same\", dilation_rate=2))\n",
    "    model.add(keras.layers.BatchNormalization())\n",
    "    if useLeakyRelu == 0:\n",
    "        model.add(keras.layers.Activation(\"relu\"))\n",
    "    else:\n",
    "        model.add(keras.layers.LeakyReLU(alpha=0.1))\n",
    "    model.add(keras.layers.MaxPooling2D(pool_size=pool_size))\n",
    "\n",
    "    # ---------- Pooling Layer Layer ---------- #\n",
    "    model.add(keras.layers.GlobalMaxPooling2D())\n",
    "\n",
    "    # ---------- Flat Layers ---------- #\n",
    "    model.add(keras.layers.Dense(512, activation=\"relu\"))\n",
    "    #model.add(keras.layers.Dense(64, activation=\"relu\"))\n",
    "    model.add(keras.layers.Dense(num_classes, activation=\"softmax\"))\n",
    "\n",
    "    model.compile(optimizer=keras.optimizers.Adam(1e-4), loss=keras.losses.SparseCategoricalCrossentropy(),\n",
    "                  metrics=[\"accuracy\"])\n",
    "    return model\n"
   ]
  },
  {
   "cell_type": "markdown",
   "metadata": {},
   "source": [
    "# Audio Processing and Features Extraction"
   ]
  },
  {
   "cell_type": "code",
   "execution_count": 308,
   "metadata": {},
   "outputs": [
    {
     "name": "stdout",
     "output_type": "stream",
     "text": [
      "Num of segments for this folder -  356  - out of -  25  audios.\n",
      "Num of segments for this folder -  434  - out of -  25  audios.\n",
      "Num of segments for this folder -  354  - out of -  25  audios.\n",
      "Num of segments for this folder -  344  - out of -  25  audios.\n",
      "Num of segments for this folder -  368  - out of -  25  audios.\n",
      "Num of segments for this folder -  470  - out of -  25  audios.\n",
      "Num of segments for this folder -  384  - out of -  25  audios.\n",
      "Num of segments for this folder -  708  - out of -  25  audios.\n",
      "Num of segments for this folder -  384  - out of -  25  audios.\n",
      "Num of segments for this folder -  449  - out of -  25  audios.\n"
     ]
    },
    {
     "data": {
      "image/png": "[encoded data removed]",
      "text/plain": [
       "<Figure size 900x360 with 10 Axes>"
      ]
     },
     "metadata": {
      "needs_background": "light"
     },
     "output_type": "display_data"
    }
   ],
   "source": [
    "# Pre-process and extract feature from the data\n",
    "if PREPROC_SKIP == 0:\n",
    "    fig, axes = plt.subplots(2, 5)\n",
    "    axes = axes.ravel()\n",
    "    fig.set_figheight(10*0.5)\n",
    "    fig.set_figwidth(25*0.5)\n",
    "    fig.tight_layout(pad=4.5)\n",
    "\n",
    "    # Loop through all audio folders\n",
    "    idxFold = 0\n",
    "    for audioSubPath in audiosSubPaths:\n",
    "        # Extract files from folder and save externally for reuse\n",
    "        features_AM, classes_A = extractSoundFeature(audiosPath, audioSubPath)\n",
    "        np.savez(\"{0}{1}\".format(processedPath, audioSubPath),\n",
    "                 features=features_AM, classes=classes_A)\n",
    "\n",
    "        # Plot histogram of data balancing per folder\n",
    "        axes[idxFold].set_title('Folder ' + str(idxFold+1) + ' balancing')\n",
    "        tmpData = np.asarray(classes_A)\n",
    "        tmpData = [np.count_nonzero(tmpData == 0),\n",
    "                   np.count_nonzero(tmpData == 1)]\n",
    "        axes[idxFold].bar(['Not Eng.', 'Eng.'], tmpData,\n",
    "                          align='edge', width=-0.4, label=\"Train\")\n",
    "\n",
    "        idxFold += 1\n"
   ]
  },
  {
   "cell_type": "code",
   "execution_count": 8,
   "metadata": {},
   "outputs": [],
   "source": [
    "# Do stratified sampling and data augmentation to balance the train dataset toward a 50/50 distribution.\n",
    "# Oversample the engine sounds\n",
    "# Undersample the general sounds\n",
    "# https://datascience.stackexchange.com/questions/32818/train-test-split-of-unbalanced-dataset-classification\n",
    "# https://scikit-learn.org/stable/modules/classes.html#module-sklearn.model_selection\n",
    "\n",
    "# preprocessing.label_binarize -> for 1 vs all classification\n"
   ]
  },
  {
   "cell_type": "markdown",
   "metadata": {},
   "source": [
    "# CNN Training and Testing"
   ]
  },
  {
   "cell_type": "code",
   "execution_count": 35,
   "metadata": {},
   "outputs": [
    {
     "name": "stdout",
     "output_type": "stream",
     "text": [
      "--> Starting a loop! - Folder  1\n",
      "-> Getting data from TRAINING folder  2\n",
      "-> Getting data from TRAINING folder  3\n",
      "-> Getting data from TRAINING folder  4\n",
      "-> Getting data from TRAINING folder  5\n",
      "-> Getting data from TRAINING folder  6\n",
      "-> Getting data from TRAINING folder  7\n",
      "-> Getting data from TRAINING folder  8\n",
      "-> Getting data from TRAINING folder  9\n",
      "-> Getting data from TRAINING folder  10\n",
      "-> TRAIN dataset size:  44527\n",
      "\n",
      "-> Getting data from TESTING folder  [1]\n",
      "-> TEST dataset size:  5504\n",
      "\n",
      "--> Fitting model!\n",
      "464/464 [==============================] - 153s 329ms/step - loss: 0.2162 - accuracy: 0.9216 - val_loss: 0.1796 - val_accuracy: 0.9393\n"
     ]
    }
   ],
   "source": [
    "### Train and evaluate via 10-audiosSubPaths cross-validation ###\n",
    "kf = KFold(n_splits=10)\n",
    "\n",
    "# List containing all confusion matrix for all K-Fold Train-Test\n",
    "allConfusionMatrix_AM = []\n",
    "# Array containing the results of the training for each train/test set.\n",
    "allFitResults_A = []\n",
    "\n",
    "# Loop to traint-test in all folder combinations.\n",
    "idx = 0\n",
    "for train_index, test_index in kf.split(audiosSubPaths):\n",
    "    idx = idx+1\n",
    "\n",
    "    print('--> Starting a loop! - Folder ', idx)\n",
    "\n",
    "    x_train, y_train = [], []\n",
    "\n",
    "    # ---------------- STEP 1 ----------------\n",
    "    # Load training data from 9 out of 10 folders\n",
    "    # Loop through all training folders and gather data in single feature array\n",
    "    for idxTrainFolder in train_index:\n",
    "        print('-> Getting data from TRAINING folder ', idxTrainFolder+1)\n",
    "        # Read pre-saved features or segments of an audio file (pre-processed)\n",
    "        train_data = np.load(\"{0}/{1}.npz\".format(processedPath,\n",
    "                             audiosSubPaths[idxTrainFolder]), allow_pickle=True)\n",
    "\n",
    "        # Append all the 'features' and 'classes' train datasets\n",
    "        # in a single list containing all train folders data\n",
    "        x_train.append(train_data[\"features\"])\n",
    "        y_train.append(train_data[\"classes\"])\n",
    "\n",
    "    # Stack all the folders in a single X/Y dataset\n",
    "    x_train = np.concatenate(x_train, axis=0).astype(np.float32)\n",
    "    y_train = np.concatenate(y_train, axis=0).astype(np.float32)\n",
    "    print('-> TRAIN dataset size: ', len(x_train))\n",
    "\n",
    "    # ---------------- STEP 2 ----------------\n",
    "    # Load test data from 1 out of 10 folders\n",
    "    # Load test data from the test folder\n",
    "    print('\\n-> Getting data from TESTING folder ', test_index+1)\n",
    "    test_data = np.load(\"{0}/{1}.npz\".format(processedPath,\n",
    "                        audiosSubPaths[test_index][0]), allow_pickle=True)\n",
    "    x_test = test_data[\"features\"]\n",
    "    y_test = test_data[\"classes\"]\n",
    "    print('-> TEST dataset size: ', len(x_test))\n",
    "\n",
    "    CNN_model = CNN_modelDefinition(useLeakyRelu=1)\n",
    "\n",
    "    print('\\n--> Fitting model!')\n",
    "    allFitResults_A.append(CNN_model.fit(x_train, y_train, validation_data=(\n",
    "        x_test, y_test), epochs=1, batch_size=96, verbose=1))\n",
    "\n",
    "    # Predict results from test data\n",
    "    y_test_pred = []\n",
    "    y_test_pred = CNN_model.predict(x_test)  # Categorical results\n",
    "    y_test_pred = np.asarray(tf.argmax(y_test_pred, axis=1))  # OHE to Category\n",
    "\n",
    "    # Append the confusion matrix of this K-Fold run to a matirx list\n",
    "    allConfusionMatrix_AM.append(confusion_matrix(\n",
    "        y_test, y_test_pred, normalize='true'))\n",
    "\n",
    "    # Early stop for reduced mode\n",
    "    if REDUCED_MODE == 1:\n",
    "        break\n",
    "\n",
    "# Save the resulting confusion matrices\n",
    "np.savez(\"{0}{1}\".format(confusionPath, confusionFile),\n",
    "         allConfusionMatrix=allConfusionMatrix_AM)\n"
   ]
  },
  {
   "cell_type": "markdown",
   "metadata": {},
   "source": [
    "Class identifiers according to UrbanSounds 8k :\n",
    "\n",
    "0 = air_conditioner\n",
    "1 = car_horn\n",
    "2 = children_playing\n",
    "3 = dog_bark\n",
    "4 = drilling\n",
    "5 = engine_idling\n",
    "6 = gun_shot\n",
    "7 = jackhammer\n",
    "8 = siren\n",
    "9 = street_music"
   ]
  },
  {
   "cell_type": "markdown",
   "metadata": {},
   "source": [
    "# Plot all the confusion matrix"
   ]
  },
  {
   "cell_type": "code",
   "execution_count": 164,
   "metadata": {},
   "outputs": [
    {
     "data": {
      "image/png": "[encoded data removed]",
      "text/plain": [
       "<Figure size 1500x600 with 11 Axes>"
      ]
     },
     "metadata": {
      "needs_background": "light"
     },
     "output_type": "display_data"
    }
   ],
   "source": [
    "# Plot all confusion matrix\n",
    "from matplotlib.pyplot import text\n",
    "from numpy import size\n",
    "\n",
    "\n",
    "f, a = plt.subplots(2, 5, dpi=120)\n",
    "f.set_figheight(10*.5)\n",
    "f.set_figwidth(25*.5)\n",
    "f.tight_layout(pad=4.5)\n",
    "\n",
    "\n",
    "idxRow = 0\n",
    "idxCol = 0\n",
    "for cm in allConfusionMatrix_AM:\n",
    "    if idxCol == 0:\n",
    "        cmDisplay = ConfusionMatrixDisplay(\n",
    "            confusion_matrix=cm, display_labels=['Not Eng.', 'Engine'])\n",
    "    else:\n",
    "        cmDisplay = ConfusionMatrixDisplay(confusion_matrix=cmDisplay)\n",
    "\n",
    "    cmPlt = cmDisplay.plot(ax=a[idxRow][idxCol],\n",
    "                           cmap='cividis', xticks_rotation='vertical')\n",
    "\n",
    "    idxCol += 1\n",
    "    if idxCol == 5:\n",
    "        idxCol = 0\n",
    "        idxRow = 1\n"
   ]
  },
  {
   "cell_type": "markdown",
   "metadata": {},
   "source": [
    "# Plot categories distribution"
   ]
  },
  {
   "cell_type": "code",
   "execution_count": 296,
   "metadata": {},
   "outputs": [
    {
     "data": {
      "text/plain": [
       "<matplotlib.legend.Legend at 0x24148cd9e70>"
      ]
     },
     "execution_count": 296,
     "metadata": {},
     "output_type": "execute_result"
    },
    {
     "data": {
      "image/png": "[encoded data removed]",
      "text/plain": [
       "<Figure size 900x360 with 10 Axes>"
      ]
     },
     "metadata": {
      "needs_background": "light"
     },
     "output_type": "display_data"
    }
   ],
   "source": [
    "f, a = plt.subplots(2, 5)\n",
    "a = a.ravel()\n",
    "\n",
    "f.set_figheight(10*0.5)\n",
    "f.set_figwidth(25*0.5)\n",
    "f.tight_layout(pad=4.5)\n",
    "\n",
    "a[0].set_title('Train/Test balancing')\n",
    "\n",
    "# Histogram of data per class in train dataset\n",
    "tmpData = np.asarray(train_data[\"classes\"])\n",
    "tmpData = [np.count_nonzero(tmpData == 0), np.count_nonzero(tmpData == 1)]\n",
    "a[0].bar(['Not Eng.', 'Eng.'], tmpData,\n",
    "         align='edge', width=-0.4, label=\"Train\")\n",
    "\n",
    "# Histogram of data per class in test dataset\n",
    "tmpData = np.asarray(test_data[\"classes\"])\n",
    "tmpData = [np.count_nonzero(tmpData == 0), np.count_nonzero(tmpData == 1)]\n",
    "a[0].bar(['Not Eng.', 'Eng.'], tmpData, align='edge', width=0.4, label=\"Test\")\n",
    "\n",
    "f.legend(fontsize=14)\n"
   ]
  }
 ],
 "metadata": {
  "kernelspec": {
   "display_name": "Python 3.10.4 64-bit",
   "language": "python",
   "name": "python3"
  },
  "language_info": {
   "codemirror_mode": {
    "name": "ipython",
    "version": 3
   },
   "file_extension": ".py",
   "mimetype": "text/x-python",
   "name": "python",
   "nbconvert_exporter": "python",
   "pygments_lexer": "ipython3",
   "version": "3.10.4"
  },
  "vscode": {
   "interpreter": {
    "hash": "b3c40342076cd490130f9df38b51275377a8f6bece07be498ddb041bf7f78465"
   }
  }
 },
 "nbformat": 4,
 "nbformat_minor": 1
}
